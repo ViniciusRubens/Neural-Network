{
 "cells": [
  {
   "cell_type": "code",
   "execution_count": 23,
   "metadata": {},
   "outputs": [],
   "source": [
    "import matplotlib.pyplot as plt\n",
    "from tqdm import tqdm\n",
    "import numpy as np\n",
    "import random\n",
    "import cv2\n",
    "import os"
   ]
  },
  {
   "cell_type": "markdown",
   "metadata": {},
   "source": [
    "# X_train and Y_train Process"
   ]
  },
  {
   "cell_type": "code",
   "execution_count": 2,
   "metadata": {},
   "outputs": [
    {
     "name": "stderr",
     "output_type": "stream",
     "text": [
      "100%|██████████| 3500/3500 [00:56<00:00, 62.13it/s]\n",
      "100%|██████████| 3500/3500 [00:56<00:00, 61.89it/s]\n"
     ]
    }
   ],
   "source": [
    "DATADIR = '/home/vinicius/Documents/DataBase/Images_Dataset/Cat_x_Dog_with_numbers'\n",
    "CATEGORIES = ['Cat','Dog']\n",
    "IMG_SIZE = 80\n",
    "training_data = []\n",
    "\n",
    "def create_training_data():\n",
    "    for category in CATEGORIES:\n",
    "        path = os.path.join(DATADIR, category)\n",
    "        class_num = CATEGORIES.index(category)\n",
    "        for image in tqdm(os.listdir(path)):\n",
    "            try:\n",
    "                img_array = cv2.imread(os.path.join(path, image), cv2.IMREAD_GRAYSCALE)\n",
    "                new_array = cv2.resize(img_array, (IMG_SIZE, IMG_SIZE))\n",
    "                training_data.append([new_array, class_num])\n",
    "            except Exception as e:\n",
    "                pass\n",
    "create_training_data()"
   ]
  },
  {
   "cell_type": "code",
   "execution_count": 3,
   "metadata": {},
   "outputs": [
    {
     "name": "stdout",
     "output_type": "stream",
     "text": [
      "###################################################################### \n",
      "\n",
      "Nossa matriz vetorizada X_train tem tamanho: (6400, 6985) \n",
      "\n",
      "###################################################################### \n",
      "\n",
      "Nossa matriz vetorizada Y_train tem tamanho: (1, 6985) \n",
      "\n"
     ]
    }
   ],
   "source": [
    "random.shuffle(training_data)\n",
    "\n",
    "x = []\n",
    "y = []\n",
    "for features, labels in training_data:\n",
    "    x.append(features)\n",
    "    y.append(labels)\n",
    "\n",
    "X_train = np.array(x).reshape(-1, IMG_SIZE * IMG_SIZE).T\n",
    "\n",
    "Y_train = np.array(y).reshape(1, -1)\n",
    "\n",
    "print('#' * 70, '\\n')\n",
    "print('Nossa matriz vetorizada X_train tem tamanho: {}'.format(X_train.shape), '\\n')\n",
    "print('#' * 70, '\\n')\n",
    "print('Nossa matriz vetorizada Y_train tem tamanho: {}'.format(Y_train.shape), '\\n')"
   ]
  },
  {
   "cell_type": "markdown",
   "metadata": {},
   "source": [
    "# X_test and Y_test Process"
   ]
  },
  {
   "cell_type": "code",
   "execution_count": 4,
   "metadata": {},
   "outputs": [
    {
     "name": "stderr",
     "output_type": "stream",
     "text": [
      "100%|██████████| 1500/1500 [00:14<00:00, 104.02it/s]\n",
      "100%|██████████| 1500/1500 [00:16<00:00, 89.40it/s] \n"
     ]
    }
   ],
   "source": [
    "DATADIR = '/home/vinicius/Documents/DataBase/Images_Dataset/Cat_x_Dog_with_numbers'\n",
    "CATEGORIES = ['Cat_test','Dog_test']\n",
    "IMG_SIZE = 80\n",
    "testing_data = []\n",
    "\n",
    "def create_testing_data():\n",
    "    for category in CATEGORIES:\n",
    "        path = os.path.join(DATADIR, category)\n",
    "        class_num = CATEGORIES.index(category)\n",
    "        for image in tqdm(os.listdir(path)):\n",
    "            try:\n",
    "                img_array = cv2.imread(os.path.join(path, image), cv2.IMREAD_GRAYSCALE)\n",
    "                new_array = cv2.resize(img_array, (IMG_SIZE, IMG_SIZE))\n",
    "                testing_data.append([new_array, class_num])\n",
    "            except Exception as e:\n",
    "                pass\n",
    "create_testing_data()"
   ]
  },
  {
   "cell_type": "code",
   "execution_count": 5,
   "metadata": {},
   "outputs": [
    {
     "name": "stdout",
     "output_type": "stream",
     "text": [
      "###################################################################### \n",
      "\n",
      "Nossa matriz vetorizada X_test tem tamanho: (6400, 2997) \n",
      "\n",
      "###################################################################### \n",
      "\n",
      "Nossa matriz vetorizada Y_test tem tamanho: (1, 2997) \n",
      "\n"
     ]
    }
   ],
   "source": [
    "random.shuffle(testing_data)\n",
    "\n",
    "x = []\n",
    "y = []\n",
    "for features, labels in testing_data:\n",
    "    x.append(features)\n",
    "    y.append(labels)\n",
    "\n",
    "X_test = np.array(x).reshape(-1, IMG_SIZE * IMG_SIZE).T\n",
    "\n",
    "Y_test = np.array(y).reshape(1, -1)\n",
    "\n",
    "print('#' * 70, '\\n')\n",
    "print('Nossa matriz vetorizada X_test tem tamanho: {}'.format(X_test.shape), '\\n')\n",
    "print('#' * 70, '\\n')\n",
    "print('Nossa matriz vetorizada Y_test tem tamanho: {}'.format(Y_test.shape), '\\n')"
   ]
  },
  {
   "cell_type": "markdown",
   "metadata": {},
   "source": [
    "# Normalizaion of input data"
   ]
  },
  {
   "cell_type": "code",
   "execution_count": 6,
   "metadata": {},
   "outputs": [],
   "source": [
    "X_train = X_train / 255\n",
    "X_test = X_test / 255"
   ]
  },
  {
   "cell_type": "markdown",
   "metadata": {},
   "source": [
    "# Sigmoid Function for Forward Propagation"
   ]
  },
  {
   "cell_type": "code",
   "execution_count": 7,
   "metadata": {},
   "outputs": [],
   "source": [
    "def sigmoid(Z):\n",
    "    \"\"\"\n",
    "    Função de ativação da última camada para classificação binária. \n",
    "    \n",
    "    Argumento: Z -> Valor de saída da camada.\n",
    "    \n",
    "    σ(Z) = σ(W * A + b) = 1 / 1 + e ^[−(WA+b)].\n",
    "    \n",
    "    Esta função retornará dois items: o valor de ativação \"A\" de mesmo 'shape' que o Z\n",
    "    e a \"cache\" que irá conter o valor de Z.\n",
    "    \"\"\"\n",
    "    A = 1 / (1 + np.exp(-Z))\n",
    "    cache = Z\n",
    "    \n",
    "    return A, cache"
   ]
  },
  {
   "cell_type": "markdown",
   "metadata": {},
   "source": [
    "# RELU Function for Forward Propagation"
   ]
  },
  {
   "cell_type": "code",
   "execution_count": 8,
   "metadata": {},
   "outputs": [],
   "source": [
    "def relu(Z):\n",
    "    \"\"\"\n",
    "    Função de ativação das camadas ocultas, exceto a última camada.\n",
    "    \n",
    "    Argumento: Z -> Valor de saída da camada.\n",
    "    \n",
    "    A = RELU(Z) = max(0, Z).\n",
    "    \n",
    "    Esta função retorn adois items: o valor de ativação \"A\" de mesmo 'shape' que o Z e \n",
    "    a \"cache\" que irá conter o valor de Z.\n",
    "    \"\"\"\n",
    "    A = np.maximum(0,Z)\n",
    "    \n",
    "    cache = Z \n",
    "    return A, cache"
   ]
  },
  {
   "cell_type": "markdown",
   "metadata": {},
   "source": [
    "# Initialization"
   ]
  },
  {
   "cell_type": "code",
   "execution_count": 9,
   "metadata": {},
   "outputs": [],
   "source": [
    "def initialize_parameters_deep(layer_dims):\n",
    "    \"\"\"\n",
    "    Inicialização randômica dos parâmetros W[l] e inicialização com zeros dos \n",
    "    parâmetros b[l].\n",
    "    \n",
    "    Argumento: layer_dimensions -> python array (lista) contendo as dimensões de cada camada\n",
    "    da nossa rede neural.\n",
    "    \n",
    "    Esta função irá retornar um dicionário contendo nossos parâmetros \"W1\", \"b1\", ..., \"WL\", \"bL\"\n",
    "    \n",
    "    Wl - parâmetro \"peso\" (weight) matriz de tamanho (layer_dimensions[l], layer_dimensions[l-1])\n",
    "    bl - parâmetros \"viés\" (bias) matriz coluna (vetor) de tamanho (layer_dimensions[l], 1)\n",
    "    \n",
    "    A letra \"l\" refere-se à \"layer\".\n",
    "    \"\"\"\n",
    "    #np.random.seed(1)\n",
    "    parameters = {}\n",
    "    L = len(layer_dims)            \n",
    "\n",
    "    for l in range(1, L):\n",
    "        parameters['W' + str(l)] = np.random.randn(layer_dims[l], layer_dims[l-1]) / np.sqrt(layer_dims[l-1]) #*0.01\n",
    "        parameters['b' + str(l)] = np.zeros((layer_dims[l], 1))\n",
    "        \n",
    "    return parameters"
   ]
  },
  {
   "cell_type": "markdown",
   "metadata": {},
   "source": [
    "# Pre-activation Parameter "
   ]
  },
  {
   "cell_type": "code",
   "execution_count": 10,
   "metadata": {},
   "outputs": [],
   "source": [
    "def linear_forward(A, W, b):\n",
    "    \"\"\"\n",
    "    Argumento:\n",
    "    A -> Valor de ativação da camada anterior, ou da camada de entrada, com tamanho: (tamanho da camada anterior, nº de exemplos).\n",
    "    W -> paraêmtro \"peso\" (weights) sendo uma matriz numpy array de tamanho (tamanho da camada atual, tamanho da camada anterior).\n",
    "    b -> parâmetro \"viés\" (bias) sendo um vetor numpy array de tamanho (tamanho da camada atual, 1).\n",
    "    \n",
    "    Esta função irá retornar o valor de Z, que é a entrada para a função de ativação, também chamado de \n",
    "    parâmetro de pré-ativação. Também retornará a cache, que é um dicionário contendo\n",
    "    \"A\", \"W\" and \"b\".\n",
    "    \"\"\"\n",
    "    Z = W.dot(A) + b\n",
    "    \n",
    "    cache = (A, W, b)\n",
    "    \n",
    "    return Z, cache"
   ]
  },
  {
   "cell_type": "markdown",
   "metadata": {},
   "source": [
    "# Activation value of Forward Propagation"
   ]
  },
  {
   "cell_type": "code",
   "execution_count": 11,
   "metadata": {},
   "outputs": [],
   "source": [
    "def linear_activation_forward(A_prev, W, b, activation):\n",
    "    \"\"\"\n",
    "    Argumento:\n",
    "    A_prev ->Valor de ativação dacamada anterior, ou da camada de entrada, de tamanho (tamanho da camada anterior, nº de exemplos).\n",
    "    W - parâmetro \"peso\" (weights) sendo uma matriz numpy array de tamanho (tamanho da camda atual, tamanho da camda anterior).\n",
    "    b - parâmetro \"viés\" (bias) sendo um vetor numpy array de tamanho (tamanho da camada atual, 1).\n",
    "    activation -> a função de ativação que será usada nesta camada, armazenada como uma string: \"sigmoid\" or \"relu\".\n",
    "    \n",
    "    Essa função retornará \"A\" queo valor de saída da função de ativação, também chamado de valor de pós-ativação. \n",
    "    Também retornaráa \"cache\", um dicionário contendo as \"linear_cache\" e \"activation_cache\".\n",
    "    \"\"\"\n",
    "    if activation == \"sigmoid\":\n",
    "        Z, linear_cache = linear_forward(A_prev, W, b)\n",
    "        A, activation_cache = sigmoid(Z)\n",
    "    \n",
    "    elif activation == \"relu\":\n",
    "        Z, linear_cache = linear_forward(A_prev, W, b)\n",
    "        A, activation_cache = relu(Z)\n",
    "    \n",
    "    cache = (linear_cache, activation_cache)\n",
    "\n",
    "    return A, cache"
   ]
  },
  {
   "cell_type": "markdown",
   "metadata": {},
   "source": [
    "# Forward propagation with L-layers"
   ]
  },
  {
   "cell_type": "code",
   "execution_count": 12,
   "metadata": {},
   "outputs": [],
   "source": [
    "def L_model_forward(X, parameters):\n",
    "    \"\"\"\n",
    "    Argumento:\n",
    "    X -> dados de entrada, é uma numpy array de tamanho (tamanho da entrada, nº de exemplos).\n",
    "    parameters -> saída da função \"initialize_parameters_deep()\".\n",
    "\n",
    "    Essa função irá retornar o valor da última camada, a última ativação da rede neural, dado por \"AL\".\n",
    "    Também irá retornar a \"caches\" que é uma lista contendo o cache da função \"linear_activation_forward()\"\n",
    "    \n",
    "    Para a RELU iremos percorrer um loop que vai da camada logo após a de entrada, até a penúltima camada,\n",
    "    não irá pegar a camada L, pois nos índices da lista ele fica L - 1.\n",
    "    \"\"\"\n",
    "    caches = []\n",
    "    A = X\n",
    "    L = len(parameters) // 2               \n",
    "    \n",
    "    for l in range(1, L):\n",
    "        A_prev = A \n",
    "        A, cache = linear_activation_forward(A_prev, parameters['W' + str(l)], parameters['b' + str(l)], activation = \"relu\")\n",
    "        caches.append(cache)\n",
    "    \n",
    "    AL, cache = linear_activation_forward(A, parameters['W' + str(L)], parameters['b' + str(L)], activation = \"sigmoid\")\n",
    "    caches.append(cache)\n",
    "            \n",
    "    return AL, caches"
   ]
  },
  {
   "cell_type": "markdown",
   "metadata": {},
   "source": [
    "# Cost Function"
   ]
  },
  {
   "cell_type": "code",
   "execution_count": 13,
   "metadata": {},
   "outputs": [],
   "source": [
    "def compute_cost(AL, Y):\n",
    "    \"\"\"\n",
    "    Argumento:\n",
    "    AL -> é o vetor correspondente às nossas previsões, tem tamanho (1, nº de exemplos).\n",
    "    Y -> é o vetor que contém os rótulos (labels) verdadeiros, \n",
    "    por exemplo, temos 0 para gato, 1 para cachorro, tem tamanho (1, nº de examplos).\n",
    "\n",
    "    Essa função irá retornar o valor da função de custo.\n",
    "    \"\"\"\n",
    "    m = Y.shape[1]\n",
    "    \n",
    "    cost = (1./m) * (-np.dot(Y,np.log(AL).T) - np.dot(1-Y, np.log(1-AL).T))\n",
    "    \n",
    "    cost = np.squeeze(cost)    \n",
    "    \n",
    "    return cost"
   ]
  },
  {
   "cell_type": "markdown",
   "metadata": {},
   "source": [
    "# Sigmoid Function for Backward Propagation"
   ]
  },
  {
   "cell_type": "code",
   "execution_count": 14,
   "metadata": {},
   "outputs": [],
   "source": [
    "def sigmoid_backward(dA, cache):\n",
    "    \"\"\"\n",
    "    Retro-propagação para uma unidade oculta com Sigmoid.\n",
    "    \n",
    "    Argumento:\n",
    "    dA -> é o gradiente/derivada do valor de ativação.\n",
    "    cache -> é onde armazenamos o Z que seria utilizado aqui.\n",
    "    \n",
    "    Essa função irá retornar o valor da derivada de Z, dada por dZ, para o cálculo do gradient descent.\n",
    "    \"\"\"\n",
    "    Z = cache\n",
    "    \n",
    "    s = 1 / (1 + np.exp(-Z))\n",
    "    dZ = dA * s * (1 - s)\n",
    "    \n",
    "    return dZ"
   ]
  },
  {
   "cell_type": "markdown",
   "metadata": {},
   "source": [
    "# Função RELU para Backward Propagation"
   ]
  },
  {
   "cell_type": "code",
   "execution_count": 15,
   "metadata": {},
   "outputs": [],
   "source": [
    "def relu_backward(dA, cache):\n",
    "    \"\"\"\n",
    "    Retro-propagação para uma unidade oculta com RELU.\n",
    "    \n",
    "    Argumento:\n",
    "    dA -> é o gradiente/derivada do valor de ativação.\n",
    "    cache -> é onde armazenamos o Z que seria utilizado aqui.\n",
    "    \n",
    "    Essa função irá retornar o valor da derivada de Z, dada por dZ, para o cálculo do gradient descent.\n",
    "    \"\"\"\n",
    "    Z = cache\n",
    "    dZ = np.array(dA, copy=True)  \n",
    "    dZ[Z <= 0] = 0\n",
    "    \n",
    "    return dZ"
   ]
  },
  {
   "cell_type": "markdown",
   "metadata": {},
   "source": [
    "# Derivative"
   ]
  },
  {
   "cell_type": "code",
   "execution_count": 16,
   "metadata": {},
   "outputs": [],
   "source": [
    "def linear_backward(dZ, cache):\n",
    "    \"\"\"\n",
    "    Argumento:\n",
    "    dZ -> derivada da função de custo.\n",
    "    cache -> uma tulpa contendo (A_prev, W, b) vindos da \"forward propagation\" na camada atual.\n",
    "\n",
    "    Essa função retornará os valores:\n",
    "    dA_prev -> gradiente/derivada da função de custo com o valor de ativação, mesmo 'shape' que A_prev.\n",
    "    dW -> gradiente/derivada da função de custo com relação ao parametro W, mesmo 'shape' que W.\n",
    "    db -> gradiente/derivada da função de custo com relação ao parametro b, mesmo 'shape' que b.\n",
    "    \"\"\"\n",
    "    A_prev, W, b = cache\n",
    "    m = A_prev.shape[1]\n",
    "\n",
    "    dW = 1./m * np.dot(dZ,A_prev.T)\n",
    "    db = 1./m * np.sum(dZ, axis = 1, keepdims = True)\n",
    "    dA_prev = np.dot(W.T,dZ)\n",
    "    \n",
    "    return dA_prev, dW, db"
   ]
  },
  {
   "cell_type": "markdown",
   "metadata": {},
   "source": [
    "# Activation value of Backward Propagation"
   ]
  },
  {
   "cell_type": "code",
   "execution_count": 17,
   "metadata": {},
   "outputs": [],
   "source": [
    "def linear_activation_backward(dA, cache, activation):\n",
    "    \"\"\"\n",
    "    Argumento:\n",
    "    dA -> gradiente/derivada daativação na camada atual.\n",
    "    cache -> uma tupla com os valores (linear_cache, activation_cache) armazenados.\n",
    "    activation -> a função de ativação utilizada na camada armazenadas como strings \"sigmoid\" ou \"relu\".\n",
    "\n",
    "    Essa função retornará:\n",
    "    dA_prev -> gradiente/derivada da funçãode custo com relaçãoà ativação, mesmo tamanho que A_prev.\n",
    "    dW -> gradiente/derivada da função de custo com relação ao parametro W, mesmo 'shape' aque W.\n",
    "    db -> gradiente/derivada da função de custo com relação ao parametro b, mesmo 'shape' aque b.\n",
    "    \"\"\"\n",
    "    linear_cache, activation_cache = cache\n",
    "    \n",
    "    if activation == \"relu\":\n",
    "        dZ = relu_backward(dA, activation_cache)\n",
    "        dA_prev, dW, db = linear_backward(dZ, linear_cache)\n",
    "        \n",
    "    elif activation == \"sigmoid\":\n",
    "        dZ = sigmoid_backward(dA, activation_cache)\n",
    "        dA_prev, dW, db = linear_backward(dZ, linear_cache)\n",
    "    \n",
    "    return dA_prev, dW, db"
   ]
  },
  {
   "cell_type": "markdown",
   "metadata": {},
   "source": [
    "# Backward Propagation with L-layers"
   ]
  },
  {
   "cell_type": "code",
   "execution_count": 18,
   "metadata": {},
   "outputs": [],
   "source": [
    "def L_model_backward(AL, Y, caches):\n",
    "    \"\"\"\n",
    "    Argumento:\n",
    "    AL -> é o vetor contendo as previsões na nossa \"forward propagation\" na função \"L_model_forward()\".\n",
    "    Y -> é o vetor que contém os rótulos (labels) verdadeiros, \n",
    "    por exemplo, temos 0 para gato, 1 para cachorro, tem tamanho (1, nº de examplos).\n",
    "    caches - uma lista com o conteúdo do cache\n",
    "    todos os cache da \"linear_activation_forward()\" com \"relu\" (são os caches[l], \"for l in range(L-1) i.e l = 0...L-2\").\n",
    "    os cache da \"linear_activation_forward()\" com \"sigmoid\" (são os caches[L-1]).\n",
    "\n",
    "    Essa função retornará a \"grads\" que é um dicionário contendo as derivadas.\n",
    "    \"\"\"\n",
    "    grads = {}\n",
    "    L = len(caches) \n",
    "    m = AL.shape[1]\n",
    "    Y = Y.reshape(AL.shape) \n",
    "    \n",
    "    dAL = - (np.divide(Y, AL) - np.divide(1 - Y, 1 - AL))\n",
    "    \n",
    "    current_cache = caches[L-1]\n",
    "    grads[\"dA\" + str(L-1)], grads[\"dW\" + str(L)], grads[\"db\" + str(L)] = linear_activation_backward(dAL, current_cache, activation = \"sigmoid\")\n",
    "    \n",
    "    for l in reversed(range(L-1)):\n",
    "        current_cache = caches[l]\n",
    "        dA_prev_temp, dW_temp, db_temp = linear_activation_backward(grads[\"dA\" + str(l + 1)], current_cache, activation = \"relu\")\n",
    "        grads[\"dA\" + str(l)] = dA_prev_temp\n",
    "        grads[\"dW\" + str(l + 1)] = dW_temp\n",
    "        grads[\"db\" + str(l + 1)] = db_temp\n",
    "\n",
    "    return grads"
   ]
  },
  {
   "cell_type": "markdown",
   "metadata": {},
   "source": [
    "# Atualization"
   ]
  },
  {
   "cell_type": "code",
   "execution_count": 19,
   "metadata": {},
   "outputs": [],
   "source": [
    "def update_parameters(parameters, grads, learning_rate):\n",
    "    \"\"\"\n",
    "    Argumento:\n",
    "    parameters -> dicionário contendo nossos parâmetros.\n",
    "    grads -> dicionário contendo nossas derivadas, saída da \"L_model_backward\".\n",
    "\n",
    "    Essa função retornará:\n",
    "    parameters -> dicionário contendo os nossos parâmetros atualizados.\n",
    "    \"\"\"\n",
    "    L = len(parameters) // 2 \n",
    "    \n",
    "    for l in range(L):\n",
    "        parameters[\"W\" + str(l+1)] = parameters[\"W\" + str(l+1)] - learning_rate * grads[\"dW\" + str(l+1)]\n",
    "        parameters[\"b\" + str(l+1)] = parameters[\"b\" + str(l+1)] - learning_rate * grads[\"db\" + str(l+1)]\n",
    "        \n",
    "    return parameters"
   ]
  },
  {
   "cell_type": "markdown",
   "metadata": {},
   "source": [
    "# Model size"
   ]
  },
  {
   "cell_type": "code",
   "execution_count": 20,
   "metadata": {},
   "outputs": [],
   "source": [
    "layers_dims = [X_train.shape[0], 20, 10, 8, 1] "
   ]
  },
  {
   "cell_type": "markdown",
   "metadata": {},
   "source": [
    "# Model"
   ]
  },
  {
   "cell_type": "code",
   "execution_count": 21,
   "metadata": {},
   "outputs": [],
   "source": [
    "def L_layer_model(X, Y, layers_dims, learning_rate = 0.007, num_iterations = 3000, print_cost=False):\n",
    "    \"\"\"\n",
    "    Argument0:\n",
    "    X -> dados de entrada para treino, numpy array de tamanho (IMG_SIZE * IMG_SIZE, nº de exmplos).\n",
    "    Y -> é o vetor que contém os rótulos (labels) verdadeirospara nosso treino, \n",
    "    por exemplo, temos 0 para gato, 1 para cachorro, tem tamanho (1, nº de examplos).\n",
    "    layers_dims -> lista contendo o tamanho de cada camada.\n",
    "\n",
    "    Essa função irá retornar \"resultados\" que é um dicionário contendo os valores que iremos utilizar.\n",
    "    \"\"\"\n",
    "    #np.random.seed(1)\n",
    "    costs = []                         \n",
    "    \n",
    "    parameters = initialize_parameters_deep(layers_dims)\n",
    "    \n",
    "    for i in range(0, num_iterations):\n",
    "\n",
    "        AL, caches = L_model_forward(X, parameters)\n",
    "    \n",
    "        cost = compute_cost(AL, Y)\n",
    "        \n",
    "        grads = L_model_backward(AL, Y, caches)\n",
    "      \n",
    "        parameters = update_parameters(parameters, grads, learning_rate)\n",
    "        \n",
    "        if print_cost and i % 100 == 0:\n",
    "            print (\"Cost after iteration %i: %f\" %(i, cost))\n",
    "        if print_cost and i % 100 == 0:\n",
    "            costs.append(cost)\n",
    "            \n",
    "    plt.plot(np.squeeze(costs))\n",
    "    plt.ylabel('cost')\n",
    "    plt.xlabel('iterations (per hundreds)')\n",
    "    plt.title(\"Learning rate =\" + str(learning_rate))\n",
    "    plt.show()\n",
    "    \n",
    "    return parameters"
   ]
  },
  {
   "cell_type": "code",
   "execution_count": 22,
   "metadata": {},
   "outputs": [
    {
     "name": "stdout",
     "output_type": "stream",
     "text": [
      "Cost after iteration 0: 0.692913\n",
      "Cost after iteration 100: 0.690440\n",
      "Cost after iteration 200: 0.688588\n",
      "Cost after iteration 300: 0.686989\n",
      "Cost after iteration 400: 0.685126\n",
      "Cost after iteration 500: 0.682988\n",
      "Cost after iteration 600: 0.680800\n",
      "Cost after iteration 700: 0.678326\n",
      "Cost after iteration 800: 0.675865\n",
      "Cost after iteration 900: 0.673293\n",
      "Cost after iteration 1000: 0.670634\n",
      "Cost after iteration 1100: 0.667977\n",
      "Cost after iteration 1200: 0.665142\n",
      "Cost after iteration 1300: 0.661972\n",
      "Cost after iteration 1400: 0.658446\n",
      "Cost after iteration 1500: 0.653959\n",
      "Cost after iteration 1600: 0.648844\n",
      "Cost after iteration 1700: 0.644055\n",
      "Cost after iteration 1800: 0.645946\n",
      "Cost after iteration 1900: 0.645294\n",
      "Cost after iteration 2000: 0.643493\n",
      "Cost after iteration 2100: 0.640920\n",
      "Cost after iteration 2200: 0.639861\n",
      "Cost after iteration 2300: 0.639575\n",
      "Cost after iteration 2400: 0.636117\n",
      "Cost after iteration 2500: 0.633438\n",
      "Cost after iteration 2600: 0.632341\n",
      "Cost after iteration 2700: 0.630557\n",
      "Cost after iteration 2800: 0.628750\n",
      "Cost after iteration 2900: 0.626383\n",
      "Cost after iteration 3000: 0.625664\n",
      "Cost after iteration 3100: 0.622981\n",
      "Cost after iteration 3200: 0.622264\n",
      "Cost after iteration 3300: 0.621192\n",
      "Cost after iteration 3400: 0.618512\n",
      "Cost after iteration 3500: 0.617010\n",
      "Cost after iteration 3600: 0.616786\n",
      "Cost after iteration 3700: 0.615128\n",
      "Cost after iteration 3800: 0.611778\n",
      "Cost after iteration 3900: 0.611120\n",
      "Cost after iteration 4000: 0.610132\n",
      "Cost after iteration 4100: 0.607449\n",
      "Cost after iteration 4200: 0.606522\n",
      "Cost after iteration 4300: 0.604039\n",
      "Cost after iteration 4400: 0.601642\n",
      "Cost after iteration 4500: 0.602896\n",
      "Cost after iteration 4600: 0.600452\n",
      "Cost after iteration 4700: 0.598846\n",
      "Cost after iteration 4800: 0.597193\n",
      "Cost after iteration 4900: 0.595030\n",
      "Cost after iteration 5000: 0.594697\n",
      "Cost after iteration 5100: 0.593335\n",
      "Cost after iteration 5200: 0.589362\n",
      "Cost after iteration 5300: 0.588758\n",
      "Cost after iteration 5400: 0.587960\n",
      "Cost after iteration 5500: 0.586487\n",
      "Cost after iteration 5600: 0.584628\n",
      "Cost after iteration 5700: 0.583132\n",
      "Cost after iteration 5800: 0.581100\n",
      "Cost after iteration 5900: 0.578180\n",
      "Cost after iteration 6000: 0.577968\n",
      "Cost after iteration 6100: 0.575894\n",
      "Cost after iteration 6200: 0.573469\n",
      "Cost after iteration 6300: 0.571616\n",
      "Cost after iteration 6400: 0.569414\n",
      "Cost after iteration 6500: 0.568270\n",
      "Cost after iteration 6600: 0.568351\n",
      "Cost after iteration 6700: 0.565355\n",
      "Cost after iteration 6800: 0.564256\n",
      "Cost after iteration 6900: 0.563341\n"
     ]
    },
    {
     "data": {
      "image/png": "[encoded data removed]",
      "text/plain": [
       "<Figure size 432x288 with 1 Axes>"
      ]
     },
     "metadata": {
      "needs_background": "light"
     },
     "output_type": "display_data"
    }
   ],
   "source": [
    "parameters = L_layer_model(X_train, Y_train, layers_dims, num_iterations = 7000, print_cost = True)"
   ]
  },
  {
   "cell_type": "markdown",
   "metadata": {},
   "source": [
    "# Predicts"
   ]
  },
  {
   "cell_type": "code",
   "execution_count": 24,
   "metadata": {},
   "outputs": [],
   "source": [
    "def predict(parameters, X):\n",
    "    \"\"\"\n",
    "    As predições são feitas com base nos resultados da função de ativação, que gera os\n",
    "    valores da matriz A que é de uma linha e m colunas, ela percorre cada valor\n",
    "    das m colunas e verifica o valor presente nessa coluna de A.\n",
    "    \"\"\"\n",
    "    m = X.shape[1]\n",
    "    n = len(parameters) // 2\n",
    "    Y_predict = np.zeros(shape = (1, m))\n",
    "    probabilidade, cache  = L_model_forward(X, parameters)\n",
    "    \n",
    "    for i in range(probabilidade.shape[1]):       \n",
    "        if probabilidade[0, i] > 0.5:\n",
    "            Y_predict[0, i] = 1\n",
    "        else:\n",
    "            0\n",
    "    return Y_predict"
   ]
  },
  {
   "cell_type": "code",
   "execution_count": 25,
   "metadata": {},
   "outputs": [
    {
     "name": "stdout",
     "output_type": "stream",
     "text": [
      "Acurácia treino: 70.1646385110952 %\n",
      "Acurácia teste: 60.59392726059393 %\n"
     ]
    }
   ],
   "source": [
    "Y_prediction_test = predict(parameters, X_test)\n",
    "Y_prediction_train = predict(parameters, X_train)\n",
    "        \n",
    "print('Acurácia treino: {} %'.format(100 - np.mean(np.abs(Y_prediction_train - Y_train)) * 100))\n",
    "print('Acurácia teste: {} %'.format(100 - np.mean(np.abs(Y_prediction_test - Y_test)) * 100))"
   ]
  },
  {
   "cell_type": "markdown",
   "metadata": {},
   "source": [
    "# Testing images"
   ]
  },
  {
   "cell_type": "code",
   "execution_count": 29,
   "metadata": {},
   "outputs": [
    {
     "name": "stdout",
     "output_type": "stream",
     "text": [
      "y = 0, você preveu ser \"0.0\n"
     ]
    },
    {
     "data": {
      "image/png": "[encoded data removed]",
      "text/plain": [
       "<Figure size 432x288 with 1 Axes>"
      ]
     },
     "metadata": {
      "needs_background": "light"
     },
     "output_type": "display_data"
    }
   ],
   "source": [
    "index = 91\n",
    "plt.imshow(X_test[:,index].reshape((IMG_SIZE, IMG_SIZE)), cmap = 'gray')\n",
    "print (\"y = \" + str(Y_test[0,index]) + \", você preveu ser \\\"\" + str(Y_prediction_test[0,index]))"
   ]
  },
  {
   "cell_type": "markdown",
   "metadata": {},
   "source": [
    "# Test your own image"
   ]
  },
  {
   "cell_type": "code",
   "execution_count": 31,
   "metadata": {},
   "outputs": [
    {
     "name": "stdout",
     "output_type": "stream",
     "text": [
      "O algoritmo previu sendo:  1\n"
     ]
    },
    {
     "data": {
      "text/plain": [
       "<function matplotlib.pyplot.show(*args, **kw)>"
      ]
     },
     "execution_count": 31,
     "metadata": {},
     "output_type": "execute_result"
    },
    {
     "data": {
      "image/png": "[encoded data removed]",
      "text/plain": [
       "<Figure size 432x288 with 1 Axes>"
      ]
     },
     "metadata": {
      "needs_background": "light"
     },
     "output_type": "display_data"
    }
   ],
   "source": [
    "image = cv2.imread('my_image', cv2.IMREAD_GRAYSCALE)    #imagem deve estar na mesma pasta\n",
    "image = image / 255\n",
    "my_image = cv2.resize(image, (IMG_SIZE, IMG_SIZE))\n",
    "teste = np.array(my_image).reshape(-1, IMG_SIZE * IMG_SIZE)\n",
    "Imagem_final = teste.T\n",
    "my_predicted_image = predict(parameters, Imagem_final)\n",
    "print(\"O algoritmo previu sendo: \", int(np.squeeze(my_predicted_image)))\n",
    "plt.imshow(image, cmap = 'gray')\n",
    "plt.show"
   ]
  },
  {
   "cell_type": "markdown",
   "metadata": {},
   "source": [
    "# Examples"
   ]
  },
  {
   "cell_type": "markdown",
   "metadata": {},
   "source": [
    "layers_dims = [X_train.shape[0], 20, 20, 8, 3, 1] / \n",
    "learning_rate = 0.001 / \n",
    "num_iteration = 5000 / \n",
    "Acurácia treino: 58.46814602720114 % / \n",
    "Acurácia teste: 57.22389055722389 %"
   ]
  },
  {
   "cell_type": "markdown",
   "metadata": {},
   "source": [
    "layers_dims = [X_train.shape[0], 20, 20, 20, 14, 8, 5, 3, 1] / \n",
    "learning_rate = 0.001 / \n",
    "num_iteration = 5000 / \n",
    "Acurácia treino: 56.134574087329995 % / \n",
    "Acurácia teste: 56.15615615615616 %"
   ]
  },
  {
   "cell_type": "markdown",
   "metadata": {},
   "source": [
    "layers_dims = [X_train.shape[0], 20, 20, 14, 8, 1] / \n",
    "learning_rate = 0.01 / \n",
    "num_iteration = 5000 / \n",
    "Acurácia treino: 77.27988546886185 % / \n",
    "Acurácia teste: 59.45945945945946 %"
   ]
  },
  {
   "cell_type": "markdown",
   "metadata": {},
   "source": [
    "layers_dims = [X_train.shape[0], 20, 20, 14, 8, 1] / \n",
    "learning_rate = 0.001 / \n",
    "num_iteration = 5000 / \n",
    "Acurácia treino: 62.60558339298497 % / \n",
    "Acurácia teste: 59.5261928595262 %"
   ]
  },
  {
   "cell_type": "markdown",
   "metadata": {},
   "source": [
    "layers_dims = [X_train.shape[0], 20, 20, 14, 8, 1] / \n",
    "learning_rate = 0.006 / \n",
    "num_iteration = 5000 / \n",
    "Acurácia treino: 77.6521116678597 % / \n",
    "Acurácia teste: 61.59492826159493 %"
   ]
  },
  {
   "cell_type": "markdown",
   "metadata": {},
   "source": [
    "layers_dims = [X_train.shape[0], 20, 12, 8, 3, 1] / \n",
    "learning_rate = 0.0075 / num_iteration = 5000 / Acurácia treino: 67.50178954903365 % / \n",
    "Acurácia teste: 60.69402736069402 %"
   ]
  },
  {
   "cell_type": "markdown",
   "metadata": {},
   "source": [
    "layers_dims = [X_train.shape[0], 20, 20, 14, 8, 1] / learning_rate = 0.0075 / num_iteration = 5000 / Acurácia treino: 79.74230493915533 % / \n",
    "Acurácia teste: 62.12879546212879 %"
   ]
  },
  {
   "cell_type": "markdown",
   "metadata": {},
   "source": [
    "layers_dims = [X_train.shape[0], 20, 10, 8, 1] / learning_rate = 0.007 / num_iteration = 7000 / Acurácia treino: 71.39584824624195 % / Acurácia teste: 60.7273940607274 %"
   ]
  }
 ],
 "metadata": {
  "kernelspec": {
   "display_name": "Python 3",
   "language": "python",
   "name": "python3"
  },
  "language_info": {
   "codemirror_mode": {
    "name": "ipython",
    "version": 3
   },
   "file_extension": ".py",
   "mimetype": "text/x-python",
   "name": "python",
   "nbconvert_exporter": "python",
   "pygments_lexer": "ipython3",
   "version": "3.7.4"
  }
 },
 "nbformat": 4,
 "nbformat_minor": 4
}
