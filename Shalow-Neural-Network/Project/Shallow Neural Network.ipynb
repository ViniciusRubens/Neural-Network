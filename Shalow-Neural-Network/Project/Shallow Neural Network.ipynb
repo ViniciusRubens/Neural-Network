{
 "cells": [
  {
   "cell_type": "code",
   "execution_count": 108,
   "metadata": {},
   "outputs": [],
   "source": [
    "import matplotlib.pyplot as plt\n",
    "from tqdm import tqdm\n",
    "import numpy as np\n",
    "import random\n",
    "import cv2\n",
    "import os"
   ]
  },
  {
   "cell_type": "markdown",
   "metadata": {},
   "source": [
    "# X_train and Y_train Process"
   ]
  },
  {
   "cell_type": "code",
   "execution_count": 208,
   "metadata": {},
   "outputs": [
    {
     "name": "stderr",
     "output_type": "stream",
     "text": [
      "100%|██████████| 1000/1000 [00:00<00:00, 1023.46it/s]\n",
      "100%|██████████| 1000/1000 [00:01<00:00, 914.33it/s]\n"
     ]
    }
   ],
   "source": [
    "DATADIR = '/home/vinicius/Documents/DataBase/Images_Dataset/Cat_x_Dog_with_numbers'\n",
    "CATEGORIES = ['Cat', 'Dog']\n",
    "IMG_SIZE = 200\n",
    "training_data = []\n",
    "\n",
    "def create_training_data():\n",
    "    for category in CATEGORIES:\n",
    "        path = os.path.join(DATADIR, category)\n",
    "        class_num = CATEGORIES.index(category)\n",
    "        for image in tqdm(os.listdir(path)):\n",
    "            try:\n",
    "                img_array = cv2.imread(os.path.join(path, image), cv2.IMREAD_GRAYSCALE)\n",
    "                new_array = cv2.resize(img_array, (IMG_SIZE, IMG_SIZE))\n",
    "                training_data.append([new_array, class_num])\n",
    "            except Exception as e:\n",
    "                pass\n",
    "create_training_data()"
   ]
  },
  {
   "cell_type": "code",
   "execution_count": 209,
   "metadata": {},
   "outputs": [
    {
     "name": "stdout",
     "output_type": "stream",
     "text": [
      "###################################################################### \n",
      "\n",
      "O tamanho do nosso conjunto de entrada para treino é: (40000, 1995) \n",
      "\n",
      "###################################################################### \n",
      "\n",
      "O tamanho do conjunto de saída rotulada para treino é: (1, 1995) \n",
      "\n"
     ]
    }
   ],
   "source": [
    "random.shuffle(training_data)\n",
    "\n",
    "x = []\n",
    "y = []\n",
    "for features, labels in training_data:\n",
    "    x.append(features)\n",
    "    y.append(labels)\n",
    "\n",
    "x = np.array(x).reshape(-1, IMG_SIZE * IMG_SIZE)\n",
    "X_train = x.T\n",
    "\n",
    "print('#' * 70, '\\n')\n",
    "print('O tamanho do nosso conjunto de entrada para treino é: {}'.format(X_train.shape), '\\n')\n",
    "\n",
    "y = np.array(y).reshape(1, -1)\n",
    "Y_train = y\n",
    "\n",
    "print('#' * 70, '\\n')\n",
    "print('O tamanho do conjunto de saída rotulada para treino é: {}'.format(Y_train.shape), '\\n')"
   ]
  },
  {
   "cell_type": "markdown",
   "metadata": {},
   "source": [
    "# X_test and Y_test Process"
   ]
  },
  {
   "cell_type": "code",
   "execution_count": 210,
   "metadata": {},
   "outputs": [
    {
     "name": "stderr",
     "output_type": "stream",
     "text": [
      "100%|██████████| 300/300 [00:00<00:00, 954.52it/s]\n",
      "100%|██████████| 300/300 [00:00<00:00, 926.67it/s]\n"
     ]
    }
   ],
   "source": [
    "DATADIR = '/home/vinicius/Documents/DataBase/Images_Dataset/Cat_x_Dog_with_numbers'\n",
    "CATEGORIES = ['Cat_test', 'Dog_test']\n",
    "IMG_SIZE = 200\n",
    "testing_data = []\n",
    "\n",
    "def create_testing_data():\n",
    "    for category in CATEGORIES:\n",
    "        path = os.path.join(DATADIR, category)\n",
    "        class_num = CATEGORIES.index(category)\n",
    "        for image in tqdm(os.listdir(path)):\n",
    "            try:\n",
    "                img_array = cv2.imread(os.path.join(path, image), cv2.IMREAD_GRAYSCALE)\n",
    "                new_array = cv2.resize(img_array, (IMG_SIZE, IMG_SIZE))\n",
    "                testing_data.append([new_array, class_num])\n",
    "            except Exception as e:\n",
    "                pass\n",
    "create_testing_data()"
   ]
  },
  {
   "cell_type": "code",
   "execution_count": 211,
   "metadata": {},
   "outputs": [
    {
     "name": "stdout",
     "output_type": "stream",
     "text": [
      "###################################################################### \n",
      "\n",
      "O tamanho do nosso conjunto de entrada para teste é: (40000, 600) \n",
      "\n",
      "###################################################################### \n",
      "\n",
      "O tamanho do conjunto de saída rotulada para teste é: (1, 600) \n",
      "\n"
     ]
    }
   ],
   "source": [
    "random.shuffle(testing_data)\n",
    "\n",
    "x = []\n",
    "y = []\n",
    "for features, labels in testing_data:\n",
    "    x.append(features)\n",
    "    y.append(labels)\n",
    "    \n",
    "X_test = np.array(x).reshape(-1, IMG_SIZE * IMG_SIZE).T\n",
    "\n",
    "print('#' * 70, '\\n')\n",
    "print('O tamanho do nosso conjunto de entrada para teste é: {}'.format(X_test.shape), '\\n')\n",
    "\n",
    "Y_test = np.array(y).reshape(1, -1)\n",
    "\n",
    "print('#' * 70, '\\n')\n",
    "print('O tamanho do conjunto de saída rotulada para teste é: {}'.format(Y_test.shape), '\\n')"
   ]
  },
  {
   "cell_type": "markdown",
   "metadata": {},
   "source": [
    "# Normalization of input data"
   ]
  },
  {
   "cell_type": "code",
   "execution_count": 212,
   "metadata": {},
   "outputs": [],
   "source": [
    "X_train = X_train / 255\n",
    "X_test = X_test / 255"
   ]
  },
  {
   "cell_type": "markdown",
   "metadata": {},
   "source": [
    "# Sigmoid Function"
   ]
  },
  {
   "cell_type": "code",
   "execution_count": 213,
   "metadata": {},
   "outputs": [],
   "source": [
    "def sigmoid(z):\n",
    "    \"\"\"\n",
    "    Função de ativação para o cálculo da sigmoide de z \n",
    "    \"\"\"\n",
    "    sigmoid = 1 / (1 + np.exp(-z))\n",
    "    \n",
    "    return sigmoid"
   ]
  },
  {
   "cell_type": "markdown",
   "metadata": {},
   "source": [
    "# Layers size"
   ]
  },
  {
   "cell_type": "code",
   "execution_count": 214,
   "metadata": {},
   "outputs": [],
   "source": [
    "def layers_size(X, Y):\n",
    "    \"\"\"\n",
    "    O n_x corresponde ao tamanho dos nossos valores de entrada, ou seja, o número de linhas\n",
    "    de nossa matriz X_train, que são os valores de pixel de cada uma das imagens, que são\n",
    "    vetores colunas da X_train. O n_y corresponde ao número de linhas da nossa matriz Y_train,\n",
    "    que são os valores rotulados de saída, ou seja, um por cada imagem, por isso a matriz \n",
    "    Y_train é uma matriz linha, com apenas uma linha, ou seja, um nó na camada de saída.\n",
    "    E o n_h é o tamanho de nossa camada oculta, ou seja, o número de nós da nossa camada oculta.\n",
    "    \"\"\"\n",
    "    n_x = X.shape[0]\n",
    "    n_h = 4\n",
    "    n_y = Y.shape[0]\n",
    "    \n",
    "    return (n_x, n_h, n_y)"
   ]
  },
  {
   "cell_type": "markdown",
   "metadata": {},
   "source": [
    "# Initilization"
   ]
  },
  {
   "cell_type": "code",
   "execution_count": 215,
   "metadata": {},
   "outputs": [],
   "source": [
    "def initialize_parameters(n_x, n_h, n_y):\n",
    "    \"\"\"\n",
    "    Inicializaremos os parâmetros W como uma matriz randômica de tamanho linhas do local que\n",
    "    estamos com o parâmetro, e colunas do local da camada anterior. O mesmo para o parâmetro b,\n",
    "    mas a diferença é que temos que multiplicar a matriz W por um valor de \"0.01\".\n",
    "    \"\"\"\n",
    "    np.random.seed(1)\n",
    "    W1 = np.random.randn(n_h, n_x) * 0.01\n",
    "    b1 = np.zeros(shape = (n_h, 1))\n",
    "    W2 = np.random.randn(n_y, n_h) * 0.01\n",
    "    b2 = np.zeros(shape = (n_y, 1))\n",
    "    \n",
    "    parametros = {'W1': W1, 'b1': b1, 'W2': W2, 'b2': b2}\n",
    "    \n",
    "    return parametros"
   ]
  },
  {
   "cell_type": "markdown",
   "metadata": {},
   "source": [
    "# Forward Propagation"
   ]
  },
  {
   "cell_type": "code",
   "execution_count": 216,
   "metadata": {},
   "outputs": [],
   "source": [
    "def forward_propagation(X, parametros):\n",
    "    \"\"\"\n",
    "    Realiza-se a propagação pra frente para cálculo dos valores de ativação A, que são\n",
    "    colocados na forma de matrizes, A1 tem tamanho (4, m_exemplos) e A2 tem tamanho \n",
    "    (1, m_exemplos). Com a np.dot fazemos a vetorização das matrizes. A np.tanh e a função de\n",
    "    ativação para as quatro unidades ocultas da hidden, e a sigmoidpara fazer a classificação\n",
    "    binária. Os valores são armazenados para utilizar depois.\n",
    "    \n",
    "    \"\"\"\n",
    "    W1 = parametros['W1']\n",
    "    W2 = parametros['W2']\n",
    "    b1 = parametros['b1']\n",
    "    b2 = parametros['b2']\n",
    "    \n",
    "    Z1 = np.dot(W1, X) + b1\n",
    "    A1 = np.tanh(Z1)\n",
    "    Z2 = np.dot(W2, A1) + b2\n",
    "    A2 = sigmoid(Z2)\n",
    "    \n",
    "    cache = {'Z1': Z1, 'A1': A1, 'Z2': Z2, 'A2': A2}\n",
    "    \n",
    "    return A2, cache"
   ]
  },
  {
   "cell_type": "markdown",
   "metadata": {},
   "source": [
    "# Cost Function"
   ]
  },
  {
   "cell_type": "code",
   "execution_count": 217,
   "metadata": {},
   "outputs": [],
   "source": [
    "def compute_cost(A2, Y, parametros):\n",
    "    \"\"\"\n",
    "    Aqui calcula-se o valor da função de custo, levando em consideração que temos que dividir\n",
    "    o valor da soma de todos os valores da funçã de custo pelo número de exemplos, temos a\n",
    "    equação abaixo.\n",
    "    \"\"\"\n",
    "    m = Y.shape[1]\n",
    "    \n",
    "    W1 = parametros['W1']\n",
    "    W2 = parametros['W2']\n",
    "    \n",
    "    cost = (np.log(A2) * Y) + ((1 - Y) * (np.log(1 - A2)))\n",
    "    cost = (-1/ m) * np.sum(cost)\n",
    "    cost = np.squeeze(cost)\n",
    "    \n",
    "    return cost"
   ]
  },
  {
   "cell_type": "markdown",
   "metadata": {},
   "source": [
    "# Backward Propagation"
   ]
  },
  {
   "cell_type": "code",
   "execution_count": 218,
   "metadata": {},
   "outputs": [],
   "source": [
    "def backward_propagation(parametros, cache, X, Y):\n",
    "    \"\"\"\n",
    "    Aqui é realizado a retro-propagação para o cálculo das derivadas em cada camada.\n",
    "    No caso da dZ1 utiliza-se a derivada da função de ativação com o valor Z1, mas não temos\n",
    "    como usar a derivada de tanh, portanto utilizamos algo que substitui isso.\n",
    "    \"\"\"\n",
    "    m = X.shape[1]\n",
    "    \n",
    "    W1 = parametros['W1']\n",
    "    W2 = parametros['W2']\n",
    "    \n",
    "    Z1 = cache['Z1']\n",
    "    A1 = cache['A1']\n",
    "    A2 = cache['A2']\n",
    "    \n",
    "    dZ2 = A2 - Y\n",
    "    dW2 = np.dot(dZ2, A1.T) / m\n",
    "    db2 = np.sum(dZ2, axis = 1, keepdims = True) / m\n",
    "    dZ1 = np.multiply(np.dot(W2.T, dZ2), 1 - np.power(A1, 2))\n",
    "    dW1 = (1 / m) * np.dot(dZ1, X.T)\n",
    "    db1 = np.sum(dZ1, axis = 1, keepdims = True) / m\n",
    "    \n",
    "    gradientes = {'dW1': dW1, 'dW2': dW2, 'db1': db1, 'db2': db2}\n",
    "    \n",
    "    return gradientes"
   ]
  },
  {
   "cell_type": "markdown",
   "metadata": {},
   "source": [
    "# Atualization"
   ]
  },
  {
   "cell_type": "code",
   "execution_count": 219,
   "metadata": {},
   "outputs": [],
   "source": [
    "def update_parameters(parametros, gradientes, learning_rate = 0.001):\n",
    "    \"\"\"\n",
    "    Realizamos a atualização dos parametros para cada passo na rede neural utilizar\n",
    "    os melhores valores dos parametros.\n",
    "    \"\"\"\n",
    "    W1 = parametros['W1']\n",
    "    W2 = parametros['W2']\n",
    "    b1 = parametros['b1']\n",
    "    b2 = parametros['b2']\n",
    "    \n",
    "    dW1 = gradientes['dW1']\n",
    "    dW2 = gradientes['dW2']\n",
    "    db1 = gradientes['db1']\n",
    "    db2 = gradientes['db2']\n",
    "    \n",
    "    W1 = W1 - learning_rate * dW1\n",
    "    W2 = W2 - learning_rate * dW2\n",
    "    b1 = b1 - learning_rate * db1\n",
    "    b2 = b2 - learning_rate * db2\n",
    "    \n",
    "    parametros = {'W1': W1, 'W2': W2, 'b1': b1, 'b2': b2}\n",
    "    \n",
    "    return parametros"
   ]
  },
  {
   "cell_type": "markdown",
   "metadata": {},
   "source": [
    "# Predictions"
   ]
  },
  {
   "cell_type": "code",
   "execution_count": 220,
   "metadata": {},
   "outputs": [],
   "source": [
    "def predict(parametros, X):\n",
    "    \"\"\"\n",
    "    As predições são feitas com base nos resultados da função de ativação, que gera os\n",
    "    valores da matriz A que é de uma linha e m colunas, ela percorre cada valor\n",
    "    das m colunas e verifica o valor presente nessa coluna de A.\n",
    "    \"\"\"\n",
    "    m = X.shape[1]\n",
    "    Y_predict = np.zeros(shape = (1, m))\n",
    "    A2, cache  = forward_propagation(X, parametros)\n",
    "    \n",
    "    for i in range(A2.shape[1]):       \n",
    "        if A2[0, i] > 0.5:\n",
    "            Y_predict[0, i] = 1\n",
    "        else:\n",
    "            0\n",
    "    return Y_predict"
   ]
  },
  {
   "cell_type": "markdown",
   "metadata": {},
   "source": [
    "# Model"
   ]
  },
  {
   "cell_type": "code",
   "execution_count": 221,
   "metadata": {},
   "outputs": [],
   "source": [
    "def model(X_train, Y_train, X_test, Y_test, n_h, num_iterations, learning_rate, print_cost):\n",
    "    \"\"\"\n",
    "    O nosso modelo é capaz de calcular as propagações com as funções que criamos, e irá\n",
    "    printar o valor da função de custo.\n",
    "    \"\"\"\n",
    "    cost_list = []\n",
    "    np.random.seed(2)\n",
    "    \n",
    "    n_x = layers_size(X_train, Y_train)[0]\n",
    "    n_y = layers_size(X_train, Y_train)[2]\n",
    "    \n",
    "    parametros = initialize_parameters(n_x, n_h, n_y)\n",
    "    \n",
    "    W1 = parametros['W1']\n",
    "    W2 = parametros['W2']\n",
    "    b1 = parametros['b1']\n",
    "    b2 = parametros['b2']\n",
    "    \n",
    "    for i in range(num_iterations):\n",
    "        A2, cache = forward_propagation(X_train, parametros)\n",
    "        cost = compute_cost(A2, Y_train, parametros)\n",
    "        gradientes = backward_propagation(parametros, cache, X_train, Y_train)\n",
    "        parametros = update_parameters(parametros, gradientes)\n",
    "        \n",
    "        if i % 200 == 0:\n",
    "            cost_list.append(cost)\n",
    "        if print_cost and i % 200 == 0:\n",
    "            print ('Valor da função de custo após a {}ª iteração: {}'.format(i, cost))\n",
    "            \n",
    "    Y_prediction_test = predict(parametros, X_test)\n",
    "    Y_prediction_train = predict(parametros, X_train)\n",
    "        \n",
    "    print('Acurácia treino: {} %'.format(100 - np.mean(np.abs(Y_prediction_train - Y_train)) * 100))\n",
    "    print('Acurácia teste: {} %'.format(100 - np.mean(np.abs(Y_prediction_test - Y_test)) * 100))\n",
    "\n",
    "    resultado = {'custo': cost_list,\n",
    "                'Predições no teste': Y_prediction_test,\n",
    "                'Predições no treino': Y_prediction_train,\n",
    "                'W1': W1, 'b1': b1, 'W2': W2, 'b2': b2,\n",
    "                'Learning rate': learning_rate,\n",
    "                'Numero de iterações': num_iterations}\n",
    "    \n",
    "    return resultado"
   ]
  },
  {
   "cell_type": "code",
   "execution_count": 222,
   "metadata": {},
   "outputs": [
    {
     "name": "stdout",
     "output_type": "stream",
     "text": [
      "Valor da função de custo após a 0ª iteração: 0.6930960047562421\n",
      "Valor da função de custo após a 200ª iteração: 0.6929733085933065\n",
      "Valor da função de custo após a 400ª iteração: 0.6928471005914149\n",
      "Valor da função de custo após a 600ª iteração: 0.6926997558734929\n",
      "Valor da função de custo após a 800ª iteração: 0.6925180152597181\n",
      "Acurácia treino: 52.98245614035088 %\n",
      "Acurácia teste: 51.666666666666664 %\n"
     ]
    }
   ],
   "source": [
    "resultado = model(X_train, Y_train, X_test, Y_test, n_h = 8, num_iterations = 1000, learning_rate = 2, print_cost = True)"
   ]
  },
  {
   "cell_type": "markdown",
   "metadata": {},
   "source": [
    "# Cost Function Graph"
   ]
  },
  {
   "cell_type": "code",
   "execution_count": 223,
   "metadata": {},
   "outputs": [
    {
     "data": {
      "image/png": "[encoded data removed]",
      "text/plain": [
       "<Figure size 432x288 with 1 Axes>"
      ]
     },
     "metadata": {
      "needs_background": "light"
     },
     "output_type": "display_data"
    }
   ],
   "source": [
    "custo = np.squeeze(resultado['custo'])\n",
    "plt.plot(custo)\n",
    "plt.ylabel('custo')\n",
    "plt.xlabel('Iterações a cada 100')\n",
    "plt.title(\"Learning rate =\" + str(resultado[\"Learning rate\"]))\n",
    "plt.show()"
   ]
  },
  {
   "cell_type": "markdown",
   "metadata": {},
   "source": [
    "# Image test from X_test"
   ]
  },
  {
   "cell_type": "code",
   "execution_count": 238,
   "metadata": {},
   "outputs": [
    {
     "name": "stdout",
     "output_type": "stream",
     "text": [
      "Y rotulado nos testes = 0, você preveu ser \"1.0\n"
     ]
    },
    {
     "data": {
      "image/png": "[encoded data removed]",
      "text/plain": [
       "<Figure size 432x288 with 1 Axes>"
      ]
     },
     "metadata": {
      "needs_background": "light"
     },
     "output_type": "display_data"
    }
   ],
   "source": [
    "index = 15\n",
    "plt.imshow(X_test[:,index].reshape((IMG_SIZE, IMG_SIZE)), cmap = 'gray')\n",
    "print (\"Y rotulado nos testes = \" + str(Y_test[0,index]) + \", você preveu ser \\\"\" + str(resultado[\"Predições no teste\"][0,index]))"
   ]
  }
 ],
 "metadata": {
  "kernelspec": {
   "display_name": "Python 3",
   "language": "python",
   "name": "python3"
  },
  "language_info": {
   "codemirror_mode": {
    "name": "ipython",
    "version": 3
   },
   "file_extension": ".py",
   "mimetype": "text/x-python",
   "name": "python",
   "nbconvert_exporter": "python",
   "pygments_lexer": "ipython3",
   "version": "3.7.4"
  }
 },
 "nbformat": 4,
 "nbformat_minor": 4
}
