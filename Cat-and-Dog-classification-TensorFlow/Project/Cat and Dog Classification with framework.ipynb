{
 "cells": [
  {
   "cell_type": "code",
   "execution_count": 22,
   "metadata": {},
   "outputs": [],
   "source": [
    "import matplotlib.pyplot as plt\n",
    "import random \n",
    "from tqdm import tqdm\n",
    "import numpy as np\n",
    "import cv2\n",
    "import os"
   ]
  },
  {
   "cell_type": "markdown",
   "metadata": {},
   "source": [
    "# Image Process"
   ]
  },
  {
   "cell_type": "code",
   "execution_count": 25,
   "metadata": {},
   "outputs": [
    {
     "name": "stderr",
     "output_type": "stream",
     "text": [
      "100%|██████████| 3500/3500 [00:58<00:00, 59.48it/s]\n",
      "100%|██████████| 3500/3500 [01:00<00:00, 58.17it/s] \n"
     ]
    }
   ],
   "source": [
    "DATADIR = '/home/vinicius/Documents/DataBase/Images_Dataset/Cat_x_Dog_with_numbers'\n",
    "CATEGORIES = ['Cat', 'Dog']\n",
    "IMG_SIZE = 50\n",
    "training_data = []\n",
    "\n",
    "def create_training_data():\n",
    "    for category in CATEGORIES:\n",
    "        path = os.path.join(DATADIR, category)\n",
    "        class_num = CATEGORIES.index(category)\n",
    "        for image in tqdm(os.listdir(path)):\n",
    "            try:\n",
    "                img_array = cv2.imread(os.path.join(path, image), cv2.IMREAD_GRAYSCALE)\n",
    "                new_array = cv2.resize(img_array, (IMG_SIZE, IMG_SIZE))\n",
    "                training_data.append([new_array, class_num])\n",
    "            except Exception as e:\n",
    "                pass\n",
    "create_training_data()"
   ]
  },
  {
   "cell_type": "code",
   "execution_count": 26,
   "metadata": {},
   "outputs": [
    {
     "name": "stdout",
     "output_type": "stream",
     "text": [
      "###################################################################### \n",
      "\n",
      "Nossa matriz X tem tamanho: (6985, 50, 50, 1) \n",
      "\n",
      "###################################################################### \n",
      "\n",
      "Nossa matriz y tem tamanho: (6985, 1) \n",
      "\n"
     ]
    }
   ],
   "source": [
    "random.shuffle(training_data)\n",
    "\n",
    "x = []\n",
    "y = []\n",
    "\n",
    "for features, labels in training_data:\n",
    "    x.append(features)\n",
    "    y.append(labels)\n",
    "    \n",
    "X = np.array(x).reshape(-1, IMG_SIZE, IMG_SIZE, 1)\n",
    "Y = np.array(y).reshape(-1, 1)\n",
    "\n",
    "print('#' * 70, '\\n')\n",
    "print('Nossa matriz X tem tamanho: {}'.format(X.shape), '\\n')\n",
    "print('#' * 70, '\\n')\n",
    "print('Nossa matriz y tem tamanho: {}'.format(Y.shape), '\\n')"
   ]
  },
  {
   "cell_type": "markdown",
   "metadata": {},
   "source": [
    "# Data Normalization"
   ]
  },
  {
   "cell_type": "code",
   "execution_count": 27,
   "metadata": {},
   "outputs": [],
   "source": [
    "X = X / 255"
   ]
  },
  {
   "cell_type": "markdown",
   "metadata": {},
   "source": [
    "# Framework"
   ]
  },
  {
   "cell_type": "code",
   "execution_count": 28,
   "metadata": {},
   "outputs": [],
   "source": [
    "import tensorflow as tf\n",
    "from tensorflow.keras.models import Sequential\n",
    "from tensorflow.keras.layers import Dense, Conv2D, MaxPooling2D, Activation, Flatten, Dropout, BatchNormalization"
   ]
  },
  {
   "cell_type": "markdown",
   "metadata": {},
   "source": [
    "# CNN Model"
   ]
  },
  {
   "cell_type": "code",
   "execution_count": 36,
   "metadata": {},
   "outputs": [
    {
     "name": "stdout",
     "output_type": "stream",
     "text": [
      "Epoch 1/10\n",
      "164/164 [==============================] - 222s 1s/step - loss: 0.8342 - accuracy: 0.5708 - val_loss: 1.4912 - val_accuracy: 0.5072\n",
      "Epoch 2/10\n",
      "164/164 [==============================] - 231s 1s/step - loss: 0.6721 - accuracy: 0.6081 - val_loss: 0.7058 - val_accuracy: 0.5272\n",
      "Epoch 3/10\n",
      "164/164 [==============================] - 224s 1s/step - loss: 0.6391 - accuracy: 0.6376 - val_loss: 0.6836 - val_accuracy: 0.5787\n",
      "Epoch 4/10\n",
      "164/164 [==============================] - 220s 1s/step - loss: 0.6024 - accuracy: 0.6758 - val_loss: 0.6511 - val_accuracy: 0.6422\n",
      "Epoch 5/10\n",
      "164/164 [==============================] - 216s 1s/step - loss: 0.5728 - accuracy: 0.6993 - val_loss: 0.7521 - val_accuracy: 0.5787\n",
      "Epoch 6/10\n",
      "164/164 [==============================] - 215s 1s/step - loss: 0.5455 - accuracy: 0.7186 - val_loss: 0.6070 - val_accuracy: 0.6674\n",
      "Epoch 7/10\n",
      "164/164 [==============================] - 231s 1s/step - loss: 0.5169 - accuracy: 0.7425 - val_loss: 0.7462 - val_accuracy: 0.5684\n",
      "Epoch 8/10\n",
      "164/164 [==============================] - 233s 1s/step - loss: 0.4794 - accuracy: 0.7700 - val_loss: 1.0901 - val_accuracy: 0.5747\n",
      "Epoch 9/10\n",
      "164/164 [==============================] - 229s 1s/step - loss: 0.4569 - accuracy: 0.7791 - val_loss: 0.6701 - val_accuracy: 0.6228\n",
      "Epoch 10/10\n",
      "164/164 [==============================] - 241s 1s/step - loss: 0.4210 - accuracy: 0.8053 - val_loss: 0.6240 - val_accuracy: 0.6938\n"
     ]
    },
    {
     "data": {
      "text/plain": [
       "<tensorflow.python.keras.callbacks.History at 0x7f37680d1bd0>"
      ]
     },
     "execution_count": 36,
     "metadata": {},
     "output_type": "execute_result"
    }
   ],
   "source": [
    "model = Sequential()\n",
    "\n",
    "model.add(Conv2D(filters = 64, kernel_size = (5, 5), input_shape = X.shape[1:]))\n",
    "model.add(Activation('relu'))\n",
    "model.add(BatchNormalization())\n",
    "model.add(MaxPooling2D(pool_size = (2, 2)))\n",
    "model.add(Dropout(0.3))\n",
    "\n",
    "model.add(Conv2D(filters = 128, kernel_size = (5, 5)))\n",
    "model.add(Activation('relu'))\n",
    "model.add(BatchNormalization())\n",
    "model.add(MaxPooling2D(pool_size = (2, 2)))\n",
    "model.add(Dropout(0.3))\n",
    "\n",
    "model.add(Conv2D(filters = 256, kernel_size = (5, 5)))\n",
    "model.add(Activation('relu'))\n",
    "model.add(BatchNormalization())\n",
    "model.add(MaxPooling2D(pool_size = (2, 2)))\n",
    "model.add(Dropout(0.4))\n",
    "\n",
    "model.add(Flatten())  #converter para um vetor coluna\n",
    "\n",
    "model.add(Dense(64))\n",
    "model.add(Activation('relu'))\n",
    "#model.add(BatchNormalization())\n",
    "\n",
    "model.add(Dense(1))\n",
    "model.add(Activation('sigmoid'))\n",
    "\n",
    "model.compile(loss = 'binary_crossentropy',\n",
    "              optimizer = 'adam',\n",
    "              metrics = ['accuracy'])\n",
    "\n",
    "model.fit(X, Y, batch_size = 32, epochs = 10, validation_split = 0.25)"
   ]
  },
  {
   "cell_type": "markdown",
   "metadata": {},
   "source": [
    "# Evaluate Model"
   ]
  },
  {
   "cell_type": "code",
   "execution_count": 37,
   "metadata": {},
   "outputs": [
    {
     "name": "stdout",
     "output_type": "stream",
     "text": [
      "219/219 - 53s - loss: 0.4662 - accuracy: 0.7811\n"
     ]
    }
   ],
   "source": [
    "test_loss, test_acc = model.evaluate(X, Y, verbose=2)"
   ]
  },
  {
   "cell_type": "code",
   "execution_count": 45,
   "metadata": {},
   "outputs": [
    {
     "name": "stdout",
     "output_type": "stream",
     "text": [
      "Erro do modelo:  46.61800265312195 % \n",
      "Acurácio do modelo:  78.11023592948914 %\n"
     ]
    }
   ],
   "source": [
    "print('Erro do modelo: ', test_loss * 100, '%','\\nAcurácio do modelo: ', test_acc * 100, '%')"
   ]
  },
  {
   "cell_type": "markdown",
   "metadata": {},
   "source": [
    "# Make Predictions"
   ]
  },
  {
   "cell_type": "code",
   "execution_count": 55,
   "metadata": {},
   "outputs": [
    {
     "name": "stdout",
     "output_type": "stream",
     "text": [
      "O algoritmo previu sendo:  [[0.68383366]]\n",
      "Sendo assim trata-se de um\n",
      "cachorro. \n",
      "\n"
     ]
    },
    {
     "data": {
      "text/plain": [
       "<function matplotlib.pyplot.show(*args, **kw)>"
      ]
     },
     "execution_count": 55,
     "metadata": {},
     "output_type": "execute_result"
    },
    {
     "data": {
      "image/png": "[encoded data removed]",
      "text/plain": [
       "<Figure size 432x288 with 1 Axes>"
      ]
     },
     "metadata": {
      "needs_background": "light"
     },
     "output_type": "display_data"
    }
   ],
   "source": [
    "image = cv2.imread('my_image', cv2.IMREAD_GRAYSCALE)    #imagem deve estar na mesma pasta\n",
    "image = image / 255\n",
    "my_image = cv2.resize(image, (IMG_SIZE, IMG_SIZE))\n",
    "Imagem_final = np.array(my_image).reshape(-1, IMG_SIZE, IMG_SIZE, 1)\n",
    "my_predicted_image = model.predict(Imagem_final)\n",
    "print(\"O algoritmo previu sendo: \", my_predicted_image)\n",
    "#resultado = np.argmax(my_predicted_image, axis = 1)\n",
    "print('Sendo assim trata-se de um')\n",
    "if my_predicted_image <= 0.5:\n",
    "    print('gato.\\n')\n",
    "else:\n",
    "    print('cachorro. \\n')\n",
    "plt.imshow(image, cmap = 'gray')\n",
    "plt.show"
   ]
  }
 ],
 "metadata": {
  "kernelspec": {
   "display_name": "Python 3",
   "language": "python",
   "name": "python3"
  },
  "language_info": {
   "codemirror_mode": {
    "name": "ipython",
    "version": 3
   },
   "file_extension": ".py",
   "mimetype": "text/x-python",
   "name": "python",
   "nbconvert_exporter": "python",
   "pygments_lexer": "ipython3",
   "version": "3.7.4"
  }
 },
 "nbformat": 4,
 "nbformat_minor": 4
}
